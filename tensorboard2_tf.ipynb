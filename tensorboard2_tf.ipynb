{
 "cells": [
  {
   "cell_type": "code",
   "execution_count": 1,
   "metadata": {},
   "outputs": [
    {
     "name": "stderr",
     "output_type": "stream",
     "text": [
      "C:\\David\\Anaconda3\\lib\\site-packages\\h5py\\__init__.py:36: FutureWarning: Conversion of the second argument of issubdtype from `float` to `np.floating` is deprecated. In future, it will be treated as `np.float64 == np.dtype(float).type`.\n",
      "  from ._conv import register_converters as _register_converters\n"
     ]
    }
   ],
   "source": [
    "import tensorflow as tf\n",
    "import numpy as np\n",
    "from sklearn.datasets import make_blobs\n",
    "import matplotlib.pyplot as plt"
   ]
  },
  {
   "cell_type": "code",
   "execution_count": 2,
   "metadata": {},
   "outputs": [],
   "source": [
    "# def a function to create a nn layer\n",
    "def add_layer(inputs, n_features, l_units, layer_name ,activation = None): # we set the default activation as none\n",
    "    layer_name = layer_name\n",
    "    with tf.name_scope(\"layer\"):\n",
    "        with tf.name_scope(\"Weight\"):\n",
    "            W = tf.Variable(tf.random_normal([n_features, l_units]), name = 'W')\n",
    "            tf.summary.histogram(layer_name + '/Weight', W)\n",
    "        with tf.name_scope(\"Bias\"):\n",
    "            bias = tf.Variable(tf.ones([1,l_units])/5, name = 'b')\n",
    "            tf.summary.histogram(layer_name + '/Bias', bias)\n",
    "        with tf.name_scope(\"Wx_plus_bias\"):\n",
    "            Wx_plus_bias = tf.matmul(inputs, W) + bias # not that the matrix is m by l, which means m data and l units at the layer\n",
    "        if activation is None:\n",
    "            output =  Wx_plus_bias # a linear response returned\n",
    "        else:\n",
    "            output = activation(Wx_plus_bias)\n",
    "        \n",
    "        tf.summary.histogram(layer_name + 'Output', output)\n",
    "        return output"
   ]
  },
  {
   "cell_type": "code",
   "execution_count": 3,
   "metadata": {},
   "outputs": [
    {
     "data": {
      "image/png": "[encoded data removed]",
      "text/plain": [
       "<Figure size 432x288 with 1 Axes>"
      ]
     },
     "metadata": {},
     "output_type": "display_data"
    }
   ],
   "source": [
    "# create two groups of data by make_blobs\n",
    "X, Y = make_blobs(centers=[[-3,-1],[2,4]], n_samples= 100, n_features=2, random_state= 87)\n",
    "X = X.astype(np.float32)\n",
    "Y = Y.reshape(-1,1).astype(np.float32)\n",
    "\n",
    "plt.scatter(X[:,0],X[:,1] ,c = Y.ravel())\n",
    "plt.show()"
   ]
  },
  {
   "cell_type": "code",
   "execution_count": 4,
   "metadata": {
    "scrolled": true
   },
   "outputs": [
    {
     "name": "stdout",
     "output_type": "stream",
     "text": [
      "At step 1\n",
      "the loss = 17.844697952270508\n",
      "---------------------------------\n",
      "At step 11\n",
      "the loss = 9.295032178329423e-22\n",
      "---------------------------------\n",
      "At step 21\n",
      "the loss = 9.295032178329423e-22\n",
      "---------------------------------\n",
      "At step 31\n",
      "the loss = 9.295032178329423e-22\n",
      "---------------------------------\n",
      "At step 41\n",
      "the loss = 9.295032178329423e-22\n",
      "---------------------------------\n",
      "At step 51\n",
      "the loss = 9.295032178329423e-22\n",
      "---------------------------------\n",
      "At step 61\n",
      "the loss = 9.295032178329423e-22\n",
      "---------------------------------\n",
      "At step 71\n",
      "the loss = 9.295032178329423e-22\n",
      "---------------------------------\n",
      "At step 81\n",
      "the loss = 9.295032178329423e-22\n",
      "---------------------------------\n",
      "At step 91\n",
      "the loss = 9.295032178329423e-22\n",
      "---------------------------------\n",
      "At step 101\n",
      "the loss = 9.295032178329423e-22\n",
      "---------------------------------\n",
      "At step 111\n",
      "the loss = 9.295032178329423e-22\n",
      "---------------------------------\n",
      "At step 121\n",
      "the loss = 9.295032178329423e-22\n",
      "---------------------------------\n",
      "At step 131\n",
      "the loss = 9.295032178329423e-22\n",
      "---------------------------------\n",
      "At step 141\n",
      "the loss = 9.295032178329423e-22\n",
      "---------------------------------\n",
      "At step 151\n",
      "the loss = 9.295032178329423e-22\n",
      "---------------------------------\n",
      "At step 161\n",
      "the loss = 9.295032178329423e-22\n",
      "---------------------------------\n",
      "At step 171\n",
      "the loss = 9.295032178329423e-22\n",
      "---------------------------------\n",
      "At step 181\n",
      "the loss = 9.295032178329423e-22\n",
      "---------------------------------\n"
     ]
    }
   ],
   "source": [
    "with tf.name_scope(\"inputs\"): # the outer box\n",
    "    X_input = tf.placeholder(tf.float32, [None,2], name = 'x_inputs') # [None, 2] means None by 2 matrix\n",
    "    target = tf.placeholder(tf.float32, [None,1], name = 'y_inputs') # [None, 2] means None by 1 matrix\n",
    "\n",
    "hidden = add_layer(X_input, 2, 10,layer_name = 'hidden_layer' ,activation=tf.nn.relu) #first hidden layer has 10 units \n",
    "output = add_layer(hidden, 10, 1, layer_name = 'output_ayer',activation=tf.nn.sigmoid) # one unit output\n",
    "\n",
    "with tf.name_scope(\"loss\"):\n",
    "    loss = tf.reduce_mean(tf.reduce_sum(tf.square(target - output)))\n",
    "    tf.summary.scalar('loss',loss)\n",
    "with tf.name_scope(\"train\"):\n",
    "    optimizer = tf.train.GradientDescentOptimizer(0.05).minimize(loss)\n",
    "\n",
    "init = tf.global_variables_initializer()\n",
    "\n",
    "sess = tf.Session()\n",
    "\n",
    "merge = tf.summary.merge_all()\n",
    "writer = tf.summary.FileWriter('./log_tb2/', sess.graph)\n",
    "\n",
    "sess.run(init)\n",
    "\n",
    "for i in range(181):\n",
    "    sess.run(optimizer, feed_dict = {X_input : X, target: Y})\n",
    "    loss_val = sess.run(loss, feed_dict = {X_input : X, target: Y})\n",
    "    if i % 10 == 0:\n",
    "        merge_result = sess.run(merge, feed_dict = {X_input: X, target: Y})\n",
    "        writer.add_summary(merge_result, i)\n",
    "        print(\"At step %d\" % (i+1) )\n",
    "        print(\"the loss = {}\".format(loss_val))\n",
    "        print(\"---------------------------------\")"
   ]
  }
 ],
 "metadata": {
  "kernelspec": {
   "display_name": "Python 3",
   "language": "python",
   "name": "python3"
  },
  "language_info": {
   "codemirror_mode": {
    "name": "ipython",
    "version": 3
   },
   "file_extension": ".py",
   "mimetype": "text/x-python",
   "name": "python",
   "nbconvert_exporter": "python",
   "pygments_lexer": "ipython3",
   "version": "3.6.5"
  }
 },
 "nbformat": 4,
 "nbformat_minor": 2
}
