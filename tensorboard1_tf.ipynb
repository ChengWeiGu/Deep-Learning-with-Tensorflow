{
 "cells": [
  {
   "cell_type": "code",
   "execution_count": 1,
   "metadata": {},
   "outputs": [
    {
     "name": "stderr",
     "output_type": "stream",
     "text": [
      "C:\\David\\Anaconda3\\lib\\site-packages\\h5py\\__init__.py:36: FutureWarning: Conversion of the second argument of issubdtype from `float` to `np.floating` is deprecated. In future, it will be treated as `np.float64 == np.dtype(float).type`.\n",
      "  from ._conv import register_converters as _register_converters\n"
     ]
    }
   ],
   "source": [
    "import tensorflow as tf\n",
    "import numpy as np\n",
    "import matplotlib.pyplot as plt"
   ]
  },
  {
   "cell_type": "code",
   "execution_count": 2,
   "metadata": {},
   "outputs": [],
   "source": [
    "# def a function to create a nn layer\n",
    "def add_layer(inputs, n_features, l_units, activation = None): # we set the default activation as none\n",
    "    with tf.name_scope(\"layer\"):\n",
    "        with tf.name_scope(\"Weight\"):\n",
    "            W = tf.Variable(tf.random_normal([n_features, l_units]), name = 'W')\n",
    "        with tf.name_scope(\"Bias\"):\n",
    "            bias = tf.Variable(tf.ones([1,l_units])/5, name = 'b')\n",
    "        with tf.name_scope(\"Wx_plus_bias\"):\n",
    "            Wx_plus_bias = tf.matmul(inputs, W) + bias # not that the matrix is m by l, which means m data and l units at the layer\n",
    "        if activation is None:\n",
    "            return Wx_plus_bias # a linear response returned\n",
    "        else:\n",
    "            return activation(Wx_plus_bias)"
   ]
  },
  {
   "cell_type": "code",
   "execution_count": 3,
   "metadata": {},
   "outputs": [],
   "source": [
    "with tf.name_scope(\"inputs\"): # the outer box\n",
    "    X_input = tf.placeholder(tf.float32, [None,2], name = 'x_inputs') # [None, 2] means None by 2 matrix\n",
    "    target = tf.placeholder(tf.float32, [None,1], name = 'y_inputs') # [None, 2] means None by 1 matrix\n",
    "\n",
    "hidden = add_layer(X_input, 2, 10, activation=tf.nn.relu) #first hidden layer has 10 units \n",
    "output = add_layer(hidden, 10, 1, activation=tf.nn.sigmoid) # one unit output\n",
    "\n",
    "with tf.name_scope(\"loss\"):\n",
    "    loss = tf.reduce_mean(tf.reduce_sum(tf.square(target - output)))\n",
    "\n",
    "with tf.name_scope(\"train\"):\n",
    "    optimizer = tf.train.GradientDescentOptimizer(0.05).minimize(loss)\n",
    "\n",
    "init = tf.global_variables_initializer()\n",
    "\n",
    "sess = tf.Session()\n",
    "\n",
    "tf.summary.FileWriter('./log_tb1/', sess.graph)\n",
    "\n",
    "sess.run(init)"
   ]
  },
  {
   "cell_type": "code",
   "execution_count": 4,
   "metadata": {},
   "outputs": [],
   "source": [
    "# next, you need to open the cmd (terminal)\n",
    "# go the the last layer of log file\n",
    "# enter tensorboard --logdir log_tfb1 --host localhost --port 8088\n",
    "# then the terminal will return a web link\n",
    "# open the google chrom and paste the link"
   ]
  }
 ],
 "metadata": {
  "kernelspec": {
   "display_name": "Python 3",
   "language": "python",
   "name": "python3"
  },
  "language_info": {
   "codemirror_mode": {
    "name": "ipython",
    "version": 3
   },
   "file_extension": ".py",
   "mimetype": "text/x-python",
   "name": "python",
   "nbconvert_exporter": "python",
   "pygments_lexer": "ipython3",
   "version": "3.6.5"
  }
 },
 "nbformat": 4,
 "nbformat_minor": 2
}
