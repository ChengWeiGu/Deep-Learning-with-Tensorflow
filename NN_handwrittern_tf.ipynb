{
 "cells": [
  {
   "cell_type": "code",
   "execution_count": 1,
   "metadata": {},
   "outputs": [
    {
     "name": "stderr",
     "output_type": "stream",
     "text": [
      "C:\\David\\Anaconda3\\lib\\site-packages\\h5py\\__init__.py:36: FutureWarning: Conversion of the second argument of issubdtype from `float` to `np.floating` is deprecated. In future, it will be treated as `np.float64 == np.dtype(float).type`.\n",
      "  from ._conv import register_converters as _register_converters\n"
     ]
    }
   ],
   "source": [
    "import numpy as np\n",
    "import matplotlib.pyplot as plt\n",
    "import tensorflow as tf\n",
    "from tensorflow.examples.tutorials.mnist import input_data"
   ]
  },
  {
   "cell_type": "code",
   "execution_count": 2,
   "metadata": {},
   "outputs": [],
   "source": [
    "# define the nn layer\n",
    "def add_layer(data, n_features, n_units, activation = None):\n",
    "    W = tf.Variable(tf.random_normal([n_features,n_units]))\n",
    "    Bias = tf.Variable(tf.ones([1, n_units])/5)\n",
    "    Wx_plus_b = tf.matmul(data,W) + Bias\n",
    "    \n",
    "    if activation == None:\n",
    "        return Wx_plus_b\n",
    "    else:\n",
    "        return activation(Wx_plus_b)\n",
    "    \n",
    "# define a fun to compute the accruacy\n",
    "def compute_accuracy(x_train, y_train):\n",
    "    predict_prob = sess.run(output, feed_dict = {xs:x_train})\n",
    "    compare = tf.equal(tf.argmax(predict_prob,1),tf.argmax(y_train,1))\n",
    "    result = tf.reduce_mean(tf.cast(compare, tf.float32)) # use cast to change the dtype\n",
    "    return sess.run(result, feed_dict = {xs:x_train, ys:y_train})*100"
   ]
  },
  {
   "cell_type": "code",
   "execution_count": 3,
   "metadata": {},
   "outputs": [
    {
     "name": "stdout",
     "output_type": "stream",
     "text": [
      "WARNING:tensorflow:From <ipython-input-3-34a838ae2708>:1: read_data_sets (from tensorflow.contrib.learn.python.learn.datasets.mnist) is deprecated and will be removed in a future version.\n",
      "Instructions for updating:\n",
      "Please use alternatives such as official/mnist/dataset.py from tensorflow/models.\n",
      "WARNING:tensorflow:From C:\\David\\Anaconda3\\lib\\site-packages\\tensorflow\\contrib\\learn\\python\\learn\\datasets\\mnist.py:260: maybe_download (from tensorflow.contrib.learn.python.learn.datasets.base) is deprecated and will be removed in a future version.\n",
      "Instructions for updating:\n",
      "Please write your own downloading logic.\n",
      "WARNING:tensorflow:From C:\\David\\Anaconda3\\lib\\site-packages\\tensorflow\\contrib\\learn\\python\\learn\\datasets\\mnist.py:262: extract_images (from tensorflow.contrib.learn.python.learn.datasets.mnist) is deprecated and will be removed in a future version.\n",
      "Instructions for updating:\n",
      "Please use tf.data to implement this functionality.\n",
      "Extracting MNIST_data\\train-images-idx3-ubyte.gz\n",
      "WARNING:tensorflow:From C:\\David\\Anaconda3\\lib\\site-packages\\tensorflow\\contrib\\learn\\python\\learn\\datasets\\mnist.py:267: extract_labels (from tensorflow.contrib.learn.python.learn.datasets.mnist) is deprecated and will be removed in a future version.\n",
      "Instructions for updating:\n",
      "Please use tf.data to implement this functionality.\n",
      "Extracting MNIST_data\\train-labels-idx1-ubyte.gz\n",
      "WARNING:tensorflow:From C:\\David\\Anaconda3\\lib\\site-packages\\tensorflow\\contrib\\learn\\python\\learn\\datasets\\mnist.py:110: dense_to_one_hot (from tensorflow.contrib.learn.python.learn.datasets.mnist) is deprecated and will be removed in a future version.\n",
      "Instructions for updating:\n",
      "Please use tf.one_hot on tensors.\n",
      "Extracting MNIST_data\\t10k-images-idx3-ubyte.gz\n",
      "Extracting MNIST_data\\t10k-labels-idx1-ubyte.gz\n",
      "WARNING:tensorflow:From C:\\David\\Anaconda3\\lib\\site-packages\\tensorflow\\contrib\\learn\\python\\learn\\datasets\\mnist.py:290: DataSet.__init__ (from tensorflow.contrib.learn.python.learn.datasets.mnist) is deprecated and will be removed in a future version.\n",
      "Instructions for updating:\n",
      "Please use alternatives such as official/mnist/dataset.py from tensorflow/models.\n"
     ]
    },
    {
     "data": {
      "image/png": "[encoded data removed]",
      "text/plain": [
       "<Figure size 864x288 with 3 Axes>"
      ]
     },
     "metadata": {},
     "output_type": "display_data"
    }
   ],
   "source": [
    "digits = input_data.read_data_sets(\"MNIST_data\", one_hot = True)\n",
    "\n",
    "# plot the top3 digits\n",
    "fig, axes = plt.subplots(1,3, sharex='all', sharey='all')\n",
    "fig.set_figheight(4), fig.set_figwidth(12)\n",
    "for i in range(3):\n",
    "    axes[i].set_title(\"The label is: {}\".format(digits.train.labels[i,:].argmax()))\n",
    "    axes[i].imshow(digits.train.images[i,:].reshape(28,28), cmap = plt.cm.Greys_r)\n",
    "    \n",
    "plt.show()"
   ]
  },
  {
   "cell_type": "code",
   "execution_count": 4,
   "metadata": {},
   "outputs": [
    {
     "name": "stdout",
     "output_type": "stream",
     "text": [
      "the loss = 973.4775390625\n",
      "the accuracy = 11.44\n",
      "----------------------------------------------------------\n",
      "the loss = 173.63204956054688\n",
      "the accuracy = 57.17\n",
      "----------------------------------------------------------\n",
      "the loss = 126.32136535644531\n",
      "the accuracy = 68.56\n",
      "----------------------------------------------------------\n",
      "the loss = 75.9465103149414\n",
      "the accuracy = 73.59\n",
      "----------------------------------------------------------\n",
      "the loss = 76.83830261230469\n",
      "the accuracy = 76.72\n",
      "----------------------------------------------------------\n",
      "the loss = 79.24899291992188\n",
      "the accuracy = 78.81\n",
      "----------------------------------------------------------\n",
      "the loss = 77.22227478027344\n",
      "the accuracy = 80.26\n",
      "----------------------------------------------------------\n",
      "the loss = 59.20906448364258\n",
      "the accuracy = 81.48\n",
      "----------------------------------------------------------\n",
      "the loss = 72.70086669921875\n",
      "the accuracy = 82.47\n",
      "----------------------------------------------------------\n",
      "the loss = 41.366790771484375\n",
      "the accuracy = 83.31\n",
      "----------------------------------------------------------\n",
      "the loss = 52.94142150878906\n",
      "the accuracy = 84.02\n",
      "----------------------------------------------------------\n",
      "the loss = 42.91602325439453\n",
      "the accuracy = 84.65\n",
      "----------------------------------------------------------\n",
      "the loss = 53.62248611450195\n",
      "the accuracy = 85.18\n",
      "----------------------------------------------------------\n",
      "the loss = 55.17900848388672\n",
      "the accuracy = 85.71\n",
      "----------------------------------------------------------\n",
      "the loss = 56.79532241821289\n",
      "the accuracy = 86.05\n",
      "----------------------------------------------------------\n"
     ]
    }
   ],
   "source": [
    "xs = tf.placeholder(tf.float32, [None,784]) # 784 = 28X28\n",
    "ys = tf.placeholder(tf.float32, [None, 10]) # one-hot encoding\n",
    "# the structure of NN\n",
    "hidden= add_layer(xs, 784, 100, activation= tf.nn.sigmoid)\n",
    "output = add_layer(hidden, 100,10, activation=tf.nn.softmax)\n",
    "\n",
    "cross_entropy = tf.reduce_mean(-tf.reduce_sum(ys*tf.log(output)))\n",
    "\n",
    "train_step = tf.train.GradientDescentOptimizer(0.0001).minimize(cross_entropy)\n",
    "\n",
    "init = tf.global_variables_initializer()\n",
    "\n",
    "sess = tf.Session()\n",
    "\n",
    "sess.run(init)\n",
    "\n",
    "for i in range(30000):\n",
    "    batch_x, batch_y = digits.train.next_batch(100) # gradient is computed by grouping 100 samples per time \n",
    "    sess.run(train_step, feed_dict = {xs:batch_x, ys:batch_y})\n",
    "    if i % 2000 == 0:\n",
    "        print(\"the loss = {}\".format(sess.run(cross_entropy, feed_dict = {xs:batch_x, ys:batch_y})))\n",
    "        print(\"the accuracy = {:.2f}\".format(compute_accuracy(digits.train.images,digits.train.labels)))\n",
    "        print(\"----------------------------------------------------------\")"
   ]
  },
  {
   "cell_type": "code",
   "execution_count": null,
   "metadata": {},
   "outputs": [],
   "source": []
  },
  {
   "cell_type": "code",
   "execution_count": null,
   "metadata": {},
   "outputs": [],
   "source": []
  }
 ],
 "metadata": {
  "kernelspec": {
   "display_name": "Python 3",
   "language": "python",
   "name": "python3"
  },
  "language_info": {
   "codemirror_mode": {
    "name": "ipython",
    "version": 3
   },
   "file_extension": ".py",
   "mimetype": "text/x-python",
   "name": "python",
   "nbconvert_exporter": "python",
   "pygments_lexer": "ipython3",
   "version": "3.6.5"
  }
 },
 "nbformat": 4,
 "nbformat_minor": 2
}
