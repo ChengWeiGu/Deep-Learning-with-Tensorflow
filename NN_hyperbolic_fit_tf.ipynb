{
 "cells": [
  {
   "cell_type": "code",
   "execution_count": 1,
   "metadata": {},
   "outputs": [
    {
     "name": "stderr",
     "output_type": "stream",
     "text": [
      "C:\\David\\Anaconda3\\lib\\site-packages\\h5py\\__init__.py:36: FutureWarning: Conversion of the second argument of issubdtype from `float` to `np.floating` is deprecated. In future, it will be treated as `np.float64 == np.dtype(float).type`.\n",
      "  from ._conv import register_converters as _register_converters\n"
     ]
    }
   ],
   "source": [
    "import tensorflow as tf\n",
    "import numpy as np\n",
    "from sklearn.datasets import make_blobs\n",
    "import matplotlib.pyplot as plt"
   ]
  },
  {
   "cell_type": "code",
   "execution_count": 2,
   "metadata": {},
   "outputs": [],
   "source": [
    "# define the nn layers\n",
    "def add_layer(inputs, n_features, n_units, activation = None):\n",
    "    W = tf.Variable(tf.random_normal([n_features,n_units]))\n",
    "    Bias = tf.Variable(tf.ones([1,n_units])/2)\n",
    "    Wx_plus_b = tf.matmul(inputs, W) + Bias\n",
    "    if activation is None:\n",
    "        return Wx_plus_b\n",
    "    else:\n",
    "        return activation(Wx_plus_b)"
   ]
  },
  {
   "cell_type": "code",
   "execution_count": 3,
   "metadata": {},
   "outputs": [
    {
     "name": "stdout",
     "output_type": "stream",
     "text": [
      "the loss = 253.98736572265625\n",
      "--------------------------------\n",
      "the loss = 14.789249420166016\n",
      "--------------------------------\n",
      "the loss = 12.107540130615234\n",
      "--------------------------------\n",
      "the loss = 11.475521087646484\n",
      "--------------------------------\n",
      "the loss = 11.000603675842285\n",
      "--------------------------------\n",
      "the loss = 10.541145324707031\n",
      "--------------------------------\n",
      "the loss = 10.124309539794922\n",
      "--------------------------------\n"
     ]
    },
    {
     "data": {
      "image/png": "[encoded data removed]",
      "text/plain": [
       "<Figure size 864x288 with 2 Axes>"
      ]
     },
     "metadata": {},
     "output_type": "display_data"
    }
   ],
   "source": [
    "# to create the training data\n",
    "x_data = np.linspace(-3,3,20).reshape(-1,1).astype(np.float32)\n",
    "y_data = x_data**2 + np.random.rand(20,1).astype(np.float32)\n",
    "\n",
    "# ---------------building nn structure----------------------#\n",
    "X = tf.placeholder(tf.float32,[None,1])\n",
    "Y = tf.placeholder(tf.float32,[None,1])\n",
    "\n",
    "hidden = add_layer(X,1,10,activation=tf.nn.relu)\n",
    "output = add_layer(hidden,10,1,activation=None)\n",
    "\n",
    "loss = tf.reduce_mean(tf.reduce_sum(tf.square(output - Y)))\n",
    "\n",
    "train_step = tf.train.GradientDescentOptimizer(0.0005).minimize(loss)\n",
    "\n",
    "init = tf.global_variables_initializer()\n",
    "\n",
    "sess = tf.Session()\n",
    "sess.run(init)\n",
    "# ---------------building nn structure----------------------#\n",
    "\n",
    "fig = plt.figure(figsize=(12,4))\n",
    "ax1 = fig.add_subplot(1,2,1)\n",
    "ax2 = fig.add_subplot(1,2,2)\n",
    "\n",
    "# ---------------start the model----------------------#\n",
    "for step in range(301):\n",
    "    \n",
    "    sess.run(train_step, feed_dict = {X:x_data, Y: y_data})\n",
    "    loss_val = sess.run(loss, feed_dict = {X:x_data, Y: y_data})\n",
    "    ax1.scatter((step+1), loss_val, c = 'b')\n",
    "    \n",
    "    if step % 50 == 0:\n",
    "        print(\"the loss = {}\".format(loss_val))\n",
    "        print(\"--------------------------------\")\n",
    "    if step == 300:\n",
    "        predicts = sess.run(output, feed_dict = {X:x_data, Y: y_data})\n",
    "        ax2.scatter(x_data, y_data, c = 'b')\n",
    "        ax2.plot(x_data, predicts, 'r-', lw = 5)\n",
    "        \n",
    "\n",
    "plt.tight_layout(True)\n",
    "plt.show()"
   ]
  },
  {
   "cell_type": "code",
   "execution_count": null,
   "metadata": {},
   "outputs": [],
   "source": []
  }
 ],
 "metadata": {
  "kernelspec": {
   "display_name": "Python 3",
   "language": "python",
   "name": "python3"
  },
  "language_info": {
   "codemirror_mode": {
    "name": "ipython",
    "version": 3
   },
   "file_extension": ".py",
   "mimetype": "text/x-python",
   "name": "python",
   "nbconvert_exporter": "python",
   "pygments_lexer": "ipython3",
   "version": "3.6.5"
  }
 },
 "nbformat": 4,
 "nbformat_minor": 2
}
