{
 "cells": [
  {
   "cell_type": "code",
   "execution_count": 1,
   "metadata": {},
   "outputs": [
    {
     "name": "stderr",
     "output_type": "stream",
     "text": [
      "C:\\David\\Anaconda3\\lib\\site-packages\\h5py\\__init__.py:36: FutureWarning: Conversion of the second argument of issubdtype from `float` to `np.floating` is deprecated. In future, it will be treated as `np.float64 == np.dtype(float).type`.\n",
      "  from ._conv import register_converters as _register_converters\n"
     ]
    }
   ],
   "source": [
    "import numpy as np\n",
    "import tensorflow as tf"
   ]
  },
  {
   "cell_type": "code",
   "execution_count": 2,
   "metadata": {},
   "outputs": [
    {
     "name": "stdout",
     "output_type": "stream",
     "text": [
      "[[12]]\n"
     ]
    }
   ],
   "source": [
    "# Use np to do the matrix multiplication\n",
    "np_matrix_dot = np.dot([[3,3]],[[2],[2]])\n",
    "print(np_matrix_dot)"
   ]
  },
  {
   "cell_type": "code",
   "execution_count": 3,
   "metadata": {},
   "outputs": [
    {
     "name": "stdout",
     "output_type": "stream",
     "text": [
      "[[12]]\n"
     ]
    }
   ],
   "source": [
    "# Use tensorflow to do the matrix multiplication\n",
    "A = tf.constant([[3,3]])\n",
    "B = tf.constant([[2],[2]])\n",
    "\n",
    "tf_matrix_dot = tf.matmul(A,B)\n",
    "\n",
    "with tf.Session() as sess:\n",
    "    result = sess.run(tf_matrix_dot)\n",
    "    print(result)"
   ]
  },
  {
   "cell_type": "code",
   "execution_count": 4,
   "metadata": {},
   "outputs": [
    {
     "name": "stdout",
     "output_type": "stream",
     "text": [
      "At 1ᵗʰ step , the val = 6\n",
      "At 2ᵗʰ step , the val = 24\n",
      "At 3ᵗʰ step , the val = 78\n",
      "At 4ᵗʰ step , the val = 240\n",
      "At 5ᵗʰ step , the val = 726\n"
     ]
    }
   ],
   "source": [
    "# now we use variables do some simple calculations\n",
    "val = tf.Variable(0, name = 'val')\n",
    "cons1 = tf.constant(2)\n",
    "cons2 = tf.constant(3)\n",
    "\n",
    "new_val = tf.multiply(tf.add(val,cons1),cons2)\n",
    "\n",
    "update = tf.assign(val, new_val)\n",
    "\n",
    "init = tf.global_variables_initializer()\n",
    "\n",
    "with tf.Session() as sess:\n",
    "    sess.run(init)\n",
    "    for i in range(5):\n",
    "        result = sess.run(update)\n",
    "        print(\"At {}ᵗʰ step , the val = {}\".format(i+1,result))"
   ]
  },
  {
   "cell_type": "code",
   "execution_count": null,
   "metadata": {},
   "outputs": [],
   "source": []
  }
 ],
 "metadata": {
  "kernelspec": {
   "display_name": "Python 3",
   "language": "python",
   "name": "python3"
  },
  "language_info": {
   "codemirror_mode": {
    "name": "ipython",
    "version": 3
   },
   "file_extension": ".py",
   "mimetype": "text/x-python",
   "name": "python",
   "nbconvert_exporter": "python",
   "pygments_lexer": "ipython3",
   "version": "3.6.5"
  }
 },
 "nbformat": 4,
 "nbformat_minor": 2
}
